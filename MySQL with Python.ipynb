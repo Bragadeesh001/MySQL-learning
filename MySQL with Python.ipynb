{
 "cells": [
  {
   "cell_type": "markdown",
   "id": "c8d0a7b0",
   "metadata": {},
   "source": [
    "# Mysql with Python"
   ]
  },
  {
   "cell_type": "code",
   "execution_count": 1,
   "id": "3cbe8e80",
   "metadata": {},
   "outputs": [],
   "source": [
    "# importing the libraries\n",
    "\n",
    "import mysql.connector as sql"
   ]
  },
  {
   "cell_type": "markdown",
   "id": "3aa7b80c",
   "metadata": {},
   "source": [
    "### Creating databases and its operation"
   ]
  },
  {
   "cell_type": "code",
   "execution_count": 2,
   "id": "59c81762",
   "metadata": {},
   "outputs": [
    {
     "name": "stdout",
     "output_type": "stream",
     "text": [
      "<mysql.connector.connection_cext.CMySQLConnection object at 0x000002391E41D2A0>\n"
     ]
    }
   ],
   "source": [
    "# Creating connection with Mysql\n",
    "\n",
    "connection=sql.connect(\n",
    "host='localhost',\n",
    "user='scooby',\n",
    "password='*******'\n",
    ")\n",
    "\n",
    "print(connection)"
   ]
  },
  {
   "cell_type": "code",
   "execution_count": 3,
   "id": "73ee25c3",
   "metadata": {},
   "outputs": [],
   "source": [
    "#creating cursor\n",
    "#which is used to execute query\n",
    "\n",
    "cursor=connection.cursor()"
   ]
  },
  {
   "cell_type": "code",
   "execution_count": 4,
   "id": "785eec61",
   "metadata": {},
   "outputs": [],
   "source": [
    "#Creating a database\n",
    "\n",
    "cursor.execute('create database mysql_learning')"
   ]
  },
  {
   "cell_type": "code",
   "execution_count": 5,
   "id": "6019c314",
   "metadata": {},
   "outputs": [
    {
     "name": "stdout",
     "output_type": "stream",
     "text": [
      "('company',)\n",
      "('information_schema',)\n",
      "('mysql',)\n",
      "('mysql_learning',)\n",
      "('performance_schema',)\n",
      "('students',)\n",
      "('sys',)\n",
      "('world',)\n"
     ]
    }
   ],
   "source": [
    "# showing all databases in mysql\n",
    "\n",
    "cursor.execute('show databases')\n",
    "\n",
    "for database in cursor:\n",
    "    print(database)"
   ]
  },
  {
   "cell_type": "code",
   "execution_count": 10,
   "id": "34e2dac9",
   "metadata": {},
   "outputs": [],
   "source": [
    "# droping the created database\n",
    "\n",
    "cursor.execute('drop database world')"
   ]
  },
  {
   "cell_type": "code",
   "execution_count": 11,
   "id": "b3b7ad06",
   "metadata": {},
   "outputs": [
    {
     "name": "stdout",
     "output_type": "stream",
     "text": [
      "('company',)\n",
      "('information_schema',)\n",
      "('mysql',)\n",
      "('mysql_learning',)\n",
      "('performance_schema',)\n",
      "('students',)\n",
      "('sys',)\n"
     ]
    }
   ],
   "source": [
    "# showing all databases in mysql after drop\n",
    "\n",
    "cursor.execute('show databases')\n",
    "\n",
    "for database in cursor:\n",
    "    print(database)"
   ]
  },
  {
   "cell_type": "code",
   "execution_count": 12,
   "id": "36b9201d",
   "metadata": {},
   "outputs": [],
   "source": [
    "# using the created database\n",
    "\n",
    "cursor.execute('use mysql_learning')"
   ]
  },
  {
   "cell_type": "markdown",
   "id": "101bfee2",
   "metadata": {},
   "source": [
    "### Creating tables and inserting records"
   ]
  },
  {
   "cell_type": "code",
   "execution_count": 13,
   "id": "3e0a6d30",
   "metadata": {},
   "outputs": [],
   "source": [
    "# creating a table\n",
    "\n",
    "cursor.execute('create table movie(id int auto_increment, movie_name varchar(25) not null, released_date date not null,primary key(id))')"
   ]
  },
  {
   "cell_type": "code",
   "execution_count": 14,
   "id": "cd556de3",
   "metadata": {},
   "outputs": [],
   "source": [
    "# inserting records into this table\n",
    "\n",
    "query=\"insert into movie(movie_name,released_date) values (%s,%s)\"\n",
    "value=('jurassic world','2021-01-12')\n",
    "\n",
    "cursor.execute(query,value)"
   ]
  },
  {
   "cell_type": "code",
   "execution_count": 15,
   "id": "1e25a72f",
   "metadata": {},
   "outputs": [
    {
     "data": {
      "text/plain": [
       "[(1, 'jurassic world', datetime.date(2021, 1, 12))]"
      ]
     },
     "execution_count": 15,
     "metadata": {},
     "output_type": "execute_result"
    }
   ],
   "source": [
    "# retriving the inserted records\n",
    "\n",
    "cursor.execute(\"select * from movie\")\n",
    "\n",
    "cursor.fetchall()"
   ]
  },
  {
   "cell_type": "code",
   "execution_count": 16,
   "id": "9c59596a",
   "metadata": {},
   "outputs": [],
   "source": [
    "# inserting many records into the table\n",
    "\n",
    "query=\"insert into movie(movie_name,released_date) values (%s,%s)\"\n",
    "value=[('Bahubali','2019-12-01'),\n",
    "       ('Fast and Furious','2015-07-15'), \n",
    "       ('Gangubai','2022-11-29')]\n",
    "\n",
    "cursor.executemany(query,value)"
   ]
  },
  {
   "cell_type": "code",
   "execution_count": 17,
   "id": "a7598c97",
   "metadata": {},
   "outputs": [
    {
     "data": {
      "text/plain": [
       "[(1, 'jurassic world', datetime.date(2021, 1, 12)),\n",
       " (2, 'Bahubali', datetime.date(2019, 12, 1)),\n",
       " (3, 'Fast and Furious', datetime.date(2015, 7, 15)),\n",
       " (4, 'Gangubai', datetime.date(2022, 11, 29))]"
      ]
     },
     "execution_count": 17,
     "metadata": {},
     "output_type": "execute_result"
    }
   ],
   "source": [
    "# retriving the inserted records\n",
    "\n",
    "cursor.execute(\"select * from movie\")\n",
    "\n",
    "cursor.fetchall()"
   ]
  },
  {
   "cell_type": "code",
   "execution_count": 19,
   "id": "60b0db74",
   "metadata": {},
   "outputs": [
    {
     "data": {
      "text/plain": [
       "(1, 'jurassic world', datetime.date(2021, 1, 12))"
      ]
     },
     "execution_count": 19,
     "metadata": {},
     "output_type": "execute_result"
    }
   ],
   "source": [
    "# retriving one record at a time\n",
    "\n",
    "cursor.execute('select * from movie')\n",
    "\n",
    "cursor.fetchone()"
   ]
  },
  {
   "cell_type": "code",
   "execution_count": null,
   "id": "c69d2195",
   "metadata": {},
   "outputs": [],
   "source": []
  }
 ],
 "metadata": {
  "kernelspec": {
   "display_name": "Python 3 (ipykernel)",
   "language": "python",
   "name": "python3"
  },
  "language_info": {
   "codemirror_mode": {
    "name": "ipython",
    "version": 3
   },
   "file_extension": ".py",
   "mimetype": "text/x-python",
   "name": "python",
   "nbconvert_exporter": "python",
   "pygments_lexer": "ipython3",
   "version": "3.10.4"
  }
 },
 "nbformat": 4,
 "nbformat_minor": 5
}
